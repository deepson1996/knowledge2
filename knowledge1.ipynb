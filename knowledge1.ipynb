{
 "cells": [
  {
   "cell_type": "markdown",
   "metadata": {},
   "source": [
    "Given the following facts and rules, check for the validity of rules "
   ]
  },
  {
   "cell_type": "code",
   "execution_count": null,
   "metadata": {},
   "outputs": [
    {
     "name": "stdout",
     "output_type": "stream",
     "text": [
      "To start with we have that Facts are: [('myFruit', 'isGreen'), ('myFruit', 'isSmooth'), ('myFruit', 'isRound'), ('myOtherFruit', 'isOrange')] \n",
      " And rules are [[('isGreen', 'isSmooth', 'isRound'), 'isApple'], [('isOrange', 'isRough'), 'isOrange']]\n"
     ]
    }
   ],
   "source": [
    "facts = [\n",
    "  (\"myFruit\", \"isGreen\"),\n",
    "  (\"myFruit\", \"isSmooth\"), \n",
    "  (\"myFruit\", \"isRound\"), \n",
    "  (\"myOtherFruit\", \"isOrange\")]\n",
    "\n",
    "# fact is a list of pair of entity, property\n",
    "\n",
    "rules = [\n",
    "  [(\"isGreen\", \"isSmooth\", \"isRound\"), \"isApple\"],\n",
    "  [(\"isOrange\", \"isRough\"), \"isOrange\"]\n",
    "]\n",
    "\n",
    "# rules is also a list of pairs (list of properties related object)\n",
    "\n",
    "print(f\"To start with we have  Facts are: {facts} \\nAnd rules are {rules}\")"
   ]
  }
 ],
 "metadata": {
  "kernelspec": {
   "display_name": "base",
   "language": "python",
   "name": "python3"
  },
  "language_info": {
   "codemirror_mode": {
    "name": "ipython",
    "version": 3
   },
   "file_extension": ".py",
   "mimetype": "text/x-python",
   "name": "python",
   "nbconvert_exporter": "python",
   "pygments_lexer": "ipython3",
   "version": "3.12.9"
  }
 },
 "nbformat": 4,
 "nbformat_minor": 2
}
